{
 "cells": [
  {
   "cell_type": "markdown",
   "metadata": {},
   "source": [
    "Задача: породить такой нетерминал, который бы мог матчить слова по их эмбеддингу.\n",
    "\n",
    "Проблема: придётся переписывать nltk'шные парсеры\n",
    "\n",
    "Решение: следуя примеру Джонатана, на лету будем дописывать в грамматику новые правила\n",
    "\n",
    "https://groups.google.com/forum/#!topic/nltk-users/4nC6J7DJcOc/discussion"
   ]
  },
  {
   "cell_type": "markdown",
   "metadata": {},
   "source": [
    "# Стандартная грамматика"
   ]
  },
  {
   "cell_type": "code",
   "execution_count": 2,
   "metadata": {},
   "outputs": [],
   "source": [
    "gram_text = \"\"\"\n",
    "S -> TURN COLOR_OF_DEVICE COLOR\n",
    "COLOR -> 'синий' | 'зеленый'\n",
    "TURN -> 'включи' | 'сделай' | 'поставь'\n",
    "COLOR_OF_DEVICE -> COLOR_N | COLOR_N DEVICE\n",
    "COLOR_N -> 'цвет' | 'свет'\n",
    "DEVICE -> 'лампочки'\n",
    "\"\"\""
   ]
  },
  {
   "cell_type": "code",
   "execution_count": 3,
   "metadata": {},
   "outputs": [],
   "source": [
    "from nltk import CFG\n",
    "from nltk.parse import BottomUpLeftCornerChartParser"
   ]
  },
  {
   "cell_type": "code",
   "execution_count": 4,
   "metadata": {},
   "outputs": [],
   "source": [
    "grammar = CFG.fromstring(gram_text)"
   ]
  },
  {
   "cell_type": "code",
   "execution_count": 5,
   "metadata": {},
   "outputs": [
    {
     "data": {
      "text/plain": [
       "<Grammar with 11 productions>"
      ]
     },
     "execution_count": 5,
     "metadata": {},
     "output_type": "execute_result"
    }
   ],
   "source": [
    "grammar"
   ]
  },
  {
   "cell_type": "code",
   "execution_count": 6,
   "metadata": {},
   "outputs": [],
   "source": [
    "parser = BottomUpLeftCornerChartParser(grammar)"
   ]
  },
  {
   "cell_type": "code",
   "execution_count": 7,
   "metadata": {},
   "outputs": [],
   "source": [
    "def try_parse(text, parser):\n",
    "    try:\n",
    "        tree = parser.parse_one(text.lower().split())\n",
    "    except ValueError:\n",
    "        return None\n",
    "    return tree"
   ]
  },
  {
   "cell_type": "code",
   "execution_count": 53,
   "metadata": {},
   "outputs": [],
   "source": [
    "p = try_parse('сделай цвет зеленый', parser)"
   ]
  },
  {
   "cell_type": "code",
   "execution_count": 13,
   "metadata": {},
   "outputs": [
    {
     "name": "stdout",
     "output_type": "stream",
     "text": [
      "(S (TURN сделай) (COLOR_OF_DEVICE (COLOR_N цвет)) (COLOR зеленый))\n"
     ]
    }
   ],
   "source": [
    "print(p)"
   ]
  },
  {
   "cell_type": "markdown",
   "metadata": {},
   "source": [
    "# Эмбеддинги"
   ]
  },
  {
   "cell_type": "code",
   "execution_count": 22,
   "metadata": {},
   "outputs": [],
   "source": [
    "import compress_fasttext\n",
    "small_model = compress_fasttext.models.CompressedFastTextKeyedVectors.load(\n",
    "    'https://github.com/avidale/compress-fasttext/releases/download/v0.0.1/ft_freqprune_100K_20K_pq_100.bin'\n",
    ")\n",
    "#print(small_model['спасибо'])"
   ]
  },
  {
   "cell_type": "code",
   "execution_count": 23,
   "metadata": {},
   "outputs": [
    {
     "data": {
      "text/plain": [
       "0.664403554367599"
      ]
     },
     "execution_count": 23,
     "metadata": {},
     "output_type": "execute_result"
    }
   ],
   "source": [
    "small_model.similarity('синий', 'голубой')"
   ]
  },
  {
   "cell_type": "code",
   "execution_count": 60,
   "metadata": {},
   "outputs": [
    {
     "data": {
      "text/plain": [
       "0.576825335473742"
      ]
     },
     "execution_count": 60,
     "metadata": {},
     "output_type": "execute_result"
    }
   ],
   "source": [
    "small_model.similarity('зеленый', 'цвет')"
   ]
  },
  {
   "cell_type": "code",
   "execution_count": 46,
   "metadata": {},
   "outputs": [],
   "source": [
    "small_model.init_sims()"
   ]
  },
  {
   "cell_type": "markdown",
   "metadata": {},
   "source": [
    "# Обогащаем"
   ]
  },
  {
   "cell_type": "code",
   "execution_count": 61,
   "metadata": {},
   "outputs": [],
   "source": [
    "min_sims = {\n",
    "    'COLOR': 0.6,\n",
    "}"
   ]
  },
  {
   "cell_type": "code",
   "execution_count": 38,
   "metadata": {},
   "outputs": [],
   "source": [
    "from collections import defaultdict"
   ]
  },
  {
   "cell_type": "code",
   "execution_count": 70,
   "metadata": {},
   "outputs": [],
   "source": [
    "keywords = defaultdict(list)\n",
    "nonterms= {}\n",
    "\n",
    "for p in grammar.productions():\n",
    "    lhs = p.lhs()\n",
    "    if lhs.symbol() not in min_sims:\n",
    "        continue\n",
    "    if not isinstance(lhs, nltk.grammar.Nonterminal):\n",
    "        continue\n",
    "    nonterms[lhs.symbol()] = lhs\n",
    "    rhs = p.rhs()\n",
    "    if not isinstance(rhs, tuple):\n",
    "        continue\n",
    "    if len(rhs) != 1: # todo: work with multiword expressions as well !\n",
    "        continue\n",
    "    keywords[lhs.symbol()].append(rhs[0])"
   ]
  },
  {
   "cell_type": "code",
   "execution_count": 73,
   "metadata": {},
   "outputs": [
    {
     "data": {
      "text/plain": [
       "nltk.grammar.Nonterminal"
      ]
     },
     "execution_count": 73,
     "metadata": {},
     "output_type": "execute_result"
    }
   ],
   "source": [
    "type(nonterms['COLOR'])"
   ]
  },
  {
   "cell_type": "code",
   "execution_count": 47,
   "metadata": {},
   "outputs": [],
   "source": [
    "key_vectors = {\n",
    "    k: [small_model.word_vec(w, use_norm=True) for w in v]\n",
    "    for k, v in keywords.items()\n",
    "}"
   ]
  },
  {
   "cell_type": "code",
   "execution_count": 34,
   "metadata": {},
   "outputs": [],
   "source": [
    "import nltk.grammar"
   ]
  },
  {
   "cell_type": "code",
   "execution_count": 54,
   "metadata": {},
   "outputs": [],
   "source": [
    "import numpy as np"
   ]
  },
  {
   "cell_type": "code",
   "execution_count": 84,
   "metadata": {},
   "outputs": [
    {
     "data": {
      "text/plain": [
       "0.6302224"
      ]
     },
     "execution_count": 84,
     "metadata": {},
     "output_type": "execute_result"
    }
   ],
   "source": [
    "vec.dot(new_vec)"
   ]
  },
  {
   "cell_type": "code",
   "execution_count": 67,
   "metadata": {},
   "outputs": [
    {
     "name": "stdout",
     "output_type": "stream",
     "text": [
      "COLOR желтый\n"
     ]
    }
   ],
   "source": [
    "text2 = 'сделай цвет лампы желтый'\n",
    "\n",
    "toks = text2.split()\n",
    "\n",
    "new_productions = []\n",
    "\n",
    "for tok in toks:\n",
    "    new_vec = small_model.word_vec(tok, use_norm=True)\n",
    "    for key, vecs in key_vectors.items():\n",
    "        for vec in vecs:\n",
    "            if np.dot(new_vec, vec) > min_sims[key]:\n",
    "                print(key, tok)\n",
    "                new_productions.append([key, tok])\n",
    "                break"
   ]
  },
  {
   "cell_type": "code",
   "execution_count": 69,
   "metadata": {},
   "outputs": [
    {
     "data": {
      "text/plain": [
       "'<Grammar with 11 productions>'"
      ]
     },
     "execution_count": 69,
     "metadata": {},
     "output_type": "execute_result"
    }
   ],
   "source": [
    "grammar.unicode_repr()"
   ]
  },
  {
   "cell_type": "code",
   "execution_count": 83,
   "metadata": {},
   "outputs": [
    {
     "name": "stdout",
     "output_type": "stream",
     "text": [
      "Wall time: 500 µs\n"
     ]
    },
    {
     "data": {
      "text/plain": [
       "<Grammar with 12 productions>"
      ]
     },
     "execution_count": 83,
     "metadata": {},
     "output_type": "execute_result"
    }
   ],
   "source": [
    "%%time\n",
    "\n",
    "new_grammar = CFG(\n",
    "    productions=list(grammar.productions()) + [\n",
    "        nltk.grammar.Production(nonterms[l], (r,)) for l, r in new_productions\n",
    "    ],\n",
    "    start=grammar.start(),\n",
    ")\n",
    "new_grammar"
   ]
  },
  {
   "cell_type": "code",
   "execution_count": 82,
   "metadata": {},
   "outputs": [
    {
     "name": "stdout",
     "output_type": "stream",
     "text": [
      "Wall time: 0 ns\n"
     ]
    }
   ],
   "source": [
    "%%time\n",
    "new_parser = BottomUpLeftCornerChartParser(new_grammar)"
   ]
  },
  {
   "cell_type": "code",
   "execution_count": 81,
   "metadata": {},
   "outputs": [
    {
     "name": "stdout",
     "output_type": "stream",
     "text": [
      "(S (TURN сделай) (COLOR_OF_DEVICE (COLOR_N цвет)) (COLOR желтый))\n"
     ]
    }
   ],
   "source": [
    "p = try_parse('сделай цвет желтый', new_parser)\n",
    "print(p)"
   ]
  },
  {
   "cell_type": "code",
   "execution_count": 90,
   "metadata": {},
   "outputs": [],
   "source": [
    "from importlib import reload"
   ]
  },
  {
   "cell_type": "code",
   "execution_count": 105,
   "metadata": {},
   "outputs": [],
   "source": [
    "import word_mover_grammar\n",
    "reload(word_mover_grammar);"
   ]
  },
  {
   "cell_type": "code",
   "execution_count": 108,
   "metadata": {},
   "outputs": [],
   "source": [
    "hacked_grammar = word_mover_grammar.grammar_tools.HackedGrammar(\n",
    "    grammar=grammar, \n",
    "    w2v=small_model, \n",
    "    min_sims={'COLOR': 0.5},\n",
    ")"
   ]
  },
  {
   "cell_type": "code",
   "execution_count": 111,
   "metadata": {},
   "outputs": [
    {
     "name": "stdout",
     "output_type": "stream",
     "text": [
      "COLOR цвет\n",
      "COLOR фиолетовый\n",
      "(S\n",
      "  (TURN сделай)\n",
      "  (COLOR_OF_DEVICE (COLOR_N цвет) (DEVICE лампочки))\n",
      "  (COLOR фиолетовый))\n"
     ]
    }
   ],
   "source": [
    "text = 'сделай цвет лампочки фиолетовый'\n",
    "new_parser = BottomUpLeftCornerChartParser(hacked_grammar.enrich_grammar(text))\n",
    "\n",
    "print(try_parse(text, new_parser))"
   ]
  }
 ],
 "metadata": {
  "kernelspec": {
   "display_name": "Python 3",
   "language": "python",
   "name": "python3"
  },
  "language_info": {
   "codemirror_mode": {
    "name": "ipython",
    "version": 3
   },
   "file_extension": ".py",
   "mimetype": "text/x-python",
   "name": "python",
   "nbconvert_exporter": "python",
   "pygments_lexer": "ipython3",
   "version": "3.7.6"
  },
  "toc": {
   "base_numbering": 1,
   "nav_menu": {},
   "number_sections": true,
   "sideBar": true,
   "skip_h1_title": false,
   "title_cell": "Table of Contents",
   "title_sidebar": "Contents",
   "toc_cell": false,
   "toc_position": {},
   "toc_section_display": true,
   "toc_window_display": false
  }
 },
 "nbformat": 4,
 "nbformat_minor": 2
}
