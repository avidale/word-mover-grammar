{
 "cells": [
  {
   "cell_type": "code",
   "execution_count": 11,
   "metadata": {},
   "outputs": [],
   "source": [
    "import os\n",
    "import sys\n",
    "def add_sys_path(p):\n",
    "    p = os.path.abspath(p)\n",
    "    if p not in sys.path:\n",
    "        sys.path.append(p)\n",
    "add_sys_path('..')"
   ]
  },
  {
   "cell_type": "code",
   "execution_count": 13,
   "metadata": {},
   "outputs": [],
   "source": [
    "from importlib import reload\n",
    "import word_mover_grammar as wmg"
   ]
  },
  {
   "cell_type": "code",
   "execution_count": 165,
   "metadata": {},
   "outputs": [],
   "source": [
    "\n",
    "import word_mover_grammar as wmg\n",
    "reload(wmg)\n",
    "reload(wmg.extended_grammar);\n",
    "reload(wmg.earley);"
   ]
  },
  {
   "cell_type": "code",
   "execution_count": 83,
   "metadata": {},
   "outputs": [],
   "source": [
    "flies = \"\"\"\n",
    "S : NP VP\n",
    "NP: N | A NP\n",
    "VP: V | VP NP | VP PP\n",
    "PP: P NP\n",
    "N: fruit | flies | bananas\n",
    "A: fruit\n",
    "V: like | flies\n",
    "P: like\n",
    "\"\"\""
   ]
  },
  {
   "cell_type": "code",
   "execution_count": 68,
   "metadata": {},
   "outputs": [],
   "source": [
    "productions = [\n",
    "    ['^', ('S',)],\n",
    "    ['S', ('NP', 'VP',)],\n",
    "    ['NP', ('N',)],\n",
    "    ['NP', ('A', 'NP',)],\n",
    "    ['VP', ('V',)],\n",
    "    ['VP', ('VP', 'NP',)],\n",
    "    ['VP', ('VP', 'PP',)],\n",
    "    ['PP', ('P', 'NP',)],\n",
    "    ['N', ('fruit',)],\n",
    "    ['N', ('flies',)],\n",
    "    ['N', ('bananas',)],\n",
    "    ['A', ('fruit',)],\n",
    "    ['V', ('like',)],\n",
    "    ['V', ('flies',)],\n",
    "    ['P', ('like',)],\n",
    "]\n",
    "\n",
    "parser = wmg.earley.EarleyParser(productions)"
   ]
  },
  {
   "cell_type": "code",
   "execution_count": 72,
   "metadata": {},
   "outputs": [],
   "source": [
    "symbols = wmg.extended_grammar.rules2symbols(productions)"
   ]
  },
  {
   "cell_type": "code",
   "execution_count": 52,
   "metadata": {},
   "outputs": [
    {
     "name": "stdout",
     "output_type": "stream",
     "text": [
      "True\n"
     ]
    }
   ],
   "source": [
    "words = 'fruit flies like bananas'.split()\n",
    "result = parser.parse(words)\n",
    "print(result.success)"
   ]
  },
  {
   "cell_type": "code",
   "execution_count": 53,
   "metadata": {},
   "outputs": [
    {
     "data": {
      "text/plain": [
       "True"
      ]
     },
     "execution_count": 53,
     "metadata": {},
     "output_type": "execute_result"
    }
   ],
   "source": [
    "result.final_state in result.forest"
   ]
  },
  {
   "cell_type": "code",
   "execution_count": 54,
   "metadata": {},
   "outputs": [
    {
     "name": "stdout",
     "output_type": "stream",
     "text": [
      " ^ -> S                        (0, 4)\n",
      "   S -> NP VP                  (0, 4)\n",
      "     NP -> A NP                (0, 2)\n",
      "       A -> fruit              (0, 1)\n",
      "       NP -> N                 (1, 2)\n",
      "         N -> flies            (1, 2)\n",
      "     VP -> VP NP               (2, 4)\n",
      "       VP -> V                 (2, 3)\n",
      "         V -> like             (2, 3)\n",
      "       NP -> N                 (3, 4)\n",
      "         N -> bananas          (3, 4)\n",
      "     ____\n",
      "     NP -> N                   (0, 1)\n",
      "       N -> fruit              (0, 1)\n",
      "     VP -> VP PP               (1, 4)\n",
      "       VP -> V                 (1, 2)\n",
      "         V -> flies            (1, 2)\n",
      "       PP -> P NP              (2, 4)\n",
      "         P -> like             (2, 3)\n",
      "         NP -> N               (3, 4)\n",
      "           N -> bananas        (3, 4)\n"
     ]
    }
   ],
   "source": [
    "result.print()"
   ]
  },
  {
   "cell_type": "code",
   "execution_count": 55,
   "metadata": {},
   "outputs": [
    {
     "name": "stdout",
     "output_type": "stream",
     "text": [
      "|                   ^                   |\n",
      "|                   S                   |\n",
      "|        NP         |        VP         |\n",
      "|    A    |   NP    |   VP    |   NP    |\n",
      "|         |    N    |    V    |    N    |\n",
      "|  fruit  |  flies  |  like   | bananas |\n"
     ]
    }
   ],
   "source": [
    "tree = result.sample_a_tree()\n",
    "wmg.earley.print_tree(tree, result.final_state)"
   ]
  },
  {
   "cell_type": "code",
   "execution_count": 56,
   "metadata": {},
   "outputs": [
    {
     "name": "stdout",
     "output_type": "stream",
     "text": [
      " ^ -> S                        (0, 4)\n",
      "   S -> NP VP                  (0, 4)\n",
      "     NP -> A NP                (0, 2)\n",
      "       A -> fruit              (0, 1)\n",
      "       NP -> N                 (1, 2)\n",
      "         N -> flies            (1, 2)\n",
      "     VP -> VP NP               (2, 4)\n",
      "       VP -> V                 (2, 3)\n",
      "         V -> like             (2, 3)\n",
      "       NP -> N                 (3, 4)\n",
      "         N -> bananas          (3, 4)\n"
     ]
    }
   ],
   "source": [
    "wmg.earley.print_tree_vertically(tree, result.final_state)"
   ]
  },
  {
   "cell_type": "code",
   "execution_count": 62,
   "metadata": {},
   "outputs": [
    {
     "name": "stdout",
     "output_type": "stream",
     "text": [
      "|                   ^                   |\n",
      "|                   S                   |\n",
      "|   NP    |             VP              |\n",
      "|    N    |   VP    |        NP         |\n",
      "|         |    V    |    A    |   NP    |\n",
      "|         |         |         |    N    |\n",
      "|  косой  |  косил  |  косой  |  косой  |\n",
      "=======\n",
      "|                   ^                   |\n",
      "|                   S                   |\n",
      "|   NP    |             VP              |\n",
      "|    N    |        VP         |   NP    |\n",
      "|         |   VP    |   NP    |    N    |\n",
      "|         |    V    |    N    |         |\n",
      "|  косой  |  косил  |  косой  |  косой  |\n",
      "=======\n"
     ]
    }
   ],
   "source": [
    "for tree in result.iter_trees():\n",
    "    wmg.earley.print_tree(tree, result.final_state)\n",
    "    print('=======')"
   ]
  },
  {
   "cell_type": "code",
   "execution_count": 61,
   "metadata": {},
   "outputs": [
    {
     "name": "stdout",
     "output_type": "stream",
     "text": [
      "True\n",
      "|                   ^                   |\n",
      "|                   S                   |\n",
      "|   NP    |             VP              |\n",
      "|    N    |   VP    |        NP         |\n",
      "|         |    V    |    A    |   NP    |\n",
      "|         |         |         |    N    |\n",
      "|  косой  |  косил  |  косой  |  косой  |\n",
      "=======\n",
      "|                   ^                   |\n",
      "|                   S                   |\n",
      "|   NP    |             VP              |\n",
      "|    N    |        VP         |   NP    |\n",
      "|         |   VP    |   NP    |    N    |\n",
      "|         |    V    |    N    |         |\n",
      "|  косой  |  косил  |  косой  |  косой  |\n",
      "=======\n"
     ]
    }
   ],
   "source": [
    "words = 'косой косил косой косой'.split()\n",
    "\n",
    "productions = [\n",
    "    ['^', ('S',)],\n",
    "    ['S', ('NP', 'VP',)],\n",
    "    ['NP', ('N',)],\n",
    "    ['NP', ('A', 'NP',)],\n",
    "    ['VP', ('V',)],\n",
    "    ['VP', ('VP', 'NP',)],\n",
    "    ['N', ('заяц',)],\n",
    "    ['N', ('косой',)],\n",
    "    ['A', ('кривой',)],\n",
    "    ['A', ('косой',)],\n",
    "    ['V', ('косил',)],\n",
    "]\n",
    "parser = wmg.earley.EarleyParser(productions)\n",
    "result = parser.parse(words)\n",
    "print(result.success)\n",
    "\n",
    "for tree in result.iter_trees():\n",
    "    wmg.earley.print_tree(tree, result.final_state)\n",
    "    print('=======')"
   ]
  },
  {
   "cell_type": "markdown",
   "metadata": {},
   "source": [
    "# Создание грамматики из текста"
   ]
  },
  {
   "cell_type": "code",
   "execution_count": 93,
   "metadata": {},
   "outputs": [],
   "source": [
    "import yaml"
   ]
  },
  {
   "cell_type": "code",
   "execution_count": 92,
   "metadata": {},
   "outputs": [],
   "source": [
    "# начнём с классического Yaml. Это почти гранет, только с дефисами. \n",
    "\n",
    "grammar_text = \"\"\"\n",
    "^:\n",
    "  - S\n",
    "S: \n",
    "  - NP, VP\n",
    "VP:\n",
    "  - V\n",
    "  - VP NP\n",
    "  - VP PP\n",
    "NP:\n",
    "  - N\n",
    "  - A NP\n",
    "PP: \n",
    "  - P NP\n",
    "N: \n",
    "  - fruit\n",
    "  - flies\n",
    "  - bananas\n",
    "A: \n",
    "  - fruit\n",
    "V: \n",
    "  - like\n",
    "  - flies\n",
    "P:\n",
    "  - like\n",
    "\"\"\"\n",
    "\n",
    "grammar_dict = yaml.safe_load(grammar_text)\n",
    "rules = []\n",
    "for k, vs in grammar_dict.items():\n",
    "    for v in vs:\n",
    "        rules.append((k, tuple(v.split())))"
   ]
  },
  {
   "cell_type": "code",
   "execution_count": 89,
   "metadata": {},
   "outputs": [
    {
     "data": {
      "text/plain": [
       "[('^', ('S',)),\n",
       " ('S', ('NP,', 'VP')),\n",
       " ('VP', ('V',)),\n",
       " ('VP', ('VP', 'NP')),\n",
       " ('VP', ('VP', 'PP')),\n",
       " ('NP', ('N',)),\n",
       " ('NP', ('A', 'NP')),\n",
       " ('PP', ('P', 'NP')),\n",
       " ('N', ('fruit',)),\n",
       " ('N', ('flies',)),\n",
       " ('N', ('bananas',)),\n",
       " ('A', ('fruit',)),\n",
       " ('V', ('like',)),\n",
       " ('V', ('flies',)),\n",
       " ('P', ('like',))]"
      ]
     },
     "execution_count": 89,
     "metadata": {},
     "output_type": "execute_result"
    }
   ],
   "source": [
    "rules"
   ]
  },
  {
   "cell_type": "code",
   "execution_count": 90,
   "metadata": {},
   "outputs": [
    {
     "data": {
      "text/plain": [
       "{'^': <word_mover_grammar.extended_grammar.NonTerminal at 0x3ef3cc2548>,\n",
       " 'S': <word_mover_grammar.extended_grammar.NonTerminal at 0x3ef3cc2c48>,\n",
       " 'NP,': <word_mover_grammar.extended_grammar.NonTerminal at 0x3ef3c63908>,\n",
       " 'VP': <word_mover_grammar.extended_grammar.NonTerminal at 0x3ef3c63c48>,\n",
       " 'V': <word_mover_grammar.extended_grammar.NonTerminal at 0x3ef3c636c8>,\n",
       " 'NP': <word_mover_grammar.extended_grammar.NonTerminal at 0x3ef3c632c8>,\n",
       " 'PP': <word_mover_grammar.extended_grammar.NonTerminal at 0x3ef3c63308>,\n",
       " 'N': <word_mover_grammar.extended_grammar.NonTerminal at 0x3ef3a76a08>,\n",
       " 'A': <word_mover_grammar.extended_grammar.NonTerminal at 0x3ef3a769c8>,\n",
       " 'P': <word_mover_grammar.extended_grammar.NonTerminal at 0x3ef3a76a48>,\n",
       " 'fruit': <word_mover_grammar.extended_grammar.Terminal at 0x3ef3cd2648>,\n",
       " 'flies': <word_mover_grammar.extended_grammar.Terminal at 0x3ef3cd2808>,\n",
       " 'bananas': <word_mover_grammar.extended_grammar.Terminal at 0x3ef3cd27c8>,\n",
       " 'like': <word_mover_grammar.extended_grammar.Terminal at 0x3ef3cd6608>}"
      ]
     },
     "execution_count": 90,
     "metadata": {},
     "output_type": "execute_result"
    }
   ],
   "source": [
    "wmg.extended_grammar.rules2symbols(rules)"
   ]
  },
  {
   "cell_type": "code",
   "execution_count": 91,
   "metadata": {},
   "outputs": [
    {
     "data": {
      "text/plain": [
       "['fruit', 'fruit', 'fruit', 'flies', 'fruit', 'bananas', 'like', 'fruit']"
      ]
     },
     "execution_count": 91,
     "metadata": {},
     "output_type": "execute_result"
    }
   ],
   "source": [
    "symbols['^'].deep_sample()"
   ]
  },
  {
   "cell_type": "markdown",
   "metadata": {},
   "source": [
    "# w2v"
   ]
  },
  {
   "cell_type": "code",
   "execution_count": 112,
   "metadata": {},
   "outputs": [],
   "source": [
    "# начнём с классического Yaml. Это почти гранет, только с дефисами. \n",
    "\n",
    "grammar_text = \"\"\"\n",
    "^:\n",
    "  - S\n",
    "S: \n",
    "  - TURN COLOR_OF_DEVICE COLOR\n",
    "COLOR:\n",
    "  - синий\n",
    "  - зеленый\n",
    "TURN:\n",
    "  - включи\n",
    "  - сделай\n",
    "  - поставь\n",
    "COLOR_OF_DEVICE:\n",
    "  - COLOR_N\n",
    "  - COLOR_N DEVICE\n",
    "COLOR_N:\n",
    "  - цвет\n",
    "  - свет\n",
    "DEVICE:\n",
    "  - лампочки\n",
    "\"\"\"\n",
    "\n",
    "grammar_dict = yaml.safe_load(grammar_text)\n",
    "rules = []\n",
    "for k, vs in grammar_dict.items():\n",
    "    for v in vs:\n",
    "        rules.append((k, tuple(v.split())))"
   ]
  },
  {
   "cell_type": "code",
   "execution_count": 115,
   "metadata": {},
   "outputs": [
    {
     "data": {
      "text/plain": [
       "[('^', ('S',)),\n",
       " ('S', ('TURN', 'COLOR_OF_DEVICE', 'COLOR')),\n",
       " ('COLOR', ('синий',)),\n",
       " ('COLOR', ('зеленый',)),\n",
       " ('TURN', ('включи',)),\n",
       " ('TURN', ('сделай',)),\n",
       " ('TURN', ('поставь',)),\n",
       " ('COLOR_OF_DEVICE', ('COLOR_N',)),\n",
       " ('COLOR_OF_DEVICE', ('COLOR_N', 'DEVICE')),\n",
       " ('COLOR_N', ('цвет',)),\n",
       " ('COLOR_N', ('свет',)),\n",
       " ('DEVICE', ('лампочки',))]"
      ]
     },
     "execution_count": 115,
     "metadata": {},
     "output_type": "execute_result"
    }
   ],
   "source": [
    "rules"
   ]
  },
  {
   "cell_type": "code",
   "execution_count": 94,
   "metadata": {},
   "outputs": [
    {
     "name": "stderr",
     "output_type": "stream",
     "text": [
      "unable to import 'smart_open.gcs', disabling that module\n"
     ]
    }
   ],
   "source": []
  },
  {
   "cell_type": "code",
   "execution_count": 116,
   "metadata": {},
   "outputs": [],
   "source": []
  },
  {
   "cell_type": "code",
   "execution_count": 113,
   "metadata": {},
   "outputs": [],
   "source": []
  },
  {
   "cell_type": "code",
   "execution_count": 117,
   "metadata": {},
   "outputs": [],
   "source": [
    "grammar = wmg.extended_grammar.rules2symbols(rules, w2v=w2v)"
   ]
  },
  {
   "cell_type": "code",
   "execution_count": 118,
   "metadata": {},
   "outputs": [],
   "source": [
    "parser = wmg.earley.EarleyParser(grammar)"
   ]
  },
  {
   "cell_type": "code",
   "execution_count": 130,
   "metadata": {},
   "outputs": [
    {
     "name": "stdout",
     "output_type": "stream",
     "text": [
      "True\n"
     ]
    }
   ],
   "source": [
    "result = parser.parse('сделай цвет лампочки оранжевым'.split())\n",
    "print(result.success)"
   ]
  },
  {
   "cell_type": "code",
   "execution_count": 277,
   "metadata": {},
   "outputs": [
    {
     "name": "stdout",
     "output_type": "stream",
     "text": [
      "|                             .                             |\n",
      "|                           root                            |\n",
      "|    включи    |    $What     |           $Where            |\n",
      "|              | кондиционер  |      на      |    кухне     |\n",
      "|    включи    |   радиатор   |      на      |    кухне     |\n",
      "=======\n"
     ]
    }
   ],
   "source": [
    "for tree in result.iter_trees():\n",
    "    wmg.earley.print_tree(tree, result.final_state)\n",
    "    print('=======')"
   ]
  },
  {
   "cell_type": "markdown",
   "metadata": {},
   "source": [
    "# Парсер гранета"
   ]
  },
  {
   "cell_type": "code",
   "execution_count": 19,
   "metadata": {},
   "outputs": [
    {
     "name": "stderr",
     "output_type": "stream",
     "text": [
      "unable to import 'smart_open.gcs', disabling that module\n"
     ]
    }
   ],
   "source": [
    "import compress_fasttext\n",
    "\n",
    "small_model = compress_fasttext.models.CompressedFastTextKeyedVectors.load(\n",
    "    'https://github.com/avidale/compress-fasttext/releases/download/v0.0.1/ft_freqprune_100K_20K_pq_100.bin'\n",
    ")\n",
    "\n",
    "small_model.init_sims()\n",
    "\n",
    "def w2v(text):\n",
    "    return small_model.word_vec(text, use_norm=True)"
   ]
  },
  {
   "cell_type": "code",
   "execution_count": 55,
   "metadata": {},
   "outputs": [],
   "source": [
    "from pymorphy2 import MorphAnalyzer\n",
    "analyzer = MorphAnalyzer()\n",
    "def lemmer(text):\n",
    "    return [p.normal_form for p in analyzer.parse(text)]"
   ]
  },
  {
   "cell_type": "code",
   "execution_count": 175,
   "metadata": {},
   "outputs": [],
   "source": [
    "text = \"\"\"\n",
    "root:\n",
    "    включи $What $Where\n",
    "$What:\n",
    "    %w2v\n",
    "    свет | кондиционер\n",
    "    %regex\n",
    "    .+[аеиюя]т[ое]р\n",
    "$Where:\n",
    "    в $Room\n",
    "    на $Room\n",
    "$Room:\n",
    "    %lemma\n",
    "    ванна | кухня | спальня\n",
    "\"\"\""
   ]
  },
  {
   "cell_type": "code",
   "execution_count": 176,
   "metadata": {},
   "outputs": [],
   "source": [
    "reload(wmg)\n",
    "reload(wmg.grammar);\n",
    "reload(wmg.earley);\n",
    "reload(wmg.text_to_grammar);"
   ]
  },
  {
   "cell_type": "code",
   "execution_count": 177,
   "metadata": {},
   "outputs": [],
   "source": [
    "grammar = wmg.text_to_grammar.load_granet(text)"
   ]
  },
  {
   "cell_type": "code",
   "execution_count": 178,
   "metadata": {},
   "outputs": [],
   "source": [
    "parser = wmg.earley.EarleyParser(grammar, w2v=w2v, lemmer=lemmer)"
   ]
  },
  {
   "cell_type": "code",
   "execution_count": 192,
   "metadata": {},
   "outputs": [
    {
     "name": "stdout",
     "output_type": "stream",
     "text": [
      "True\n",
      "|                               .                               |\n",
      "|                             root                              |\n",
      "|    включи     |     $What     |            $Where             |\n",
      "|               |.+[аеиюя]т[ое]р|       в       |     $Room     |\n",
      "|               |               |               |    спальня    |\n",
      "|    включи     |   компьютер   |       в       |    спальне    |\n",
      "=======\n"
     ]
    }
   ],
   "source": [
    "tokens = 'включи компьютер в спальне'.split()\n",
    "result = parser.parse(tokens)\n",
    "print(result.success)\n",
    "for tree in result.iter_trees():\n",
    "    wmg.earley.print_tree(tree, result.final_state, w=16)\n",
    "    print('=======')"
   ]
  },
  {
   "cell_type": "code",
   "execution_count": 188,
   "metadata": {},
   "outputs": [
    {
     "name": "stdout",
     "output_type": "stream",
     "text": [
      "|                               .                               |\n",
      "|                             root                              |\n",
      "|    включи     |     $What     |            $Where             |\n",
      "|               |  кондиционер  |       в       |     $Room     |\n",
      "|               |               |               |    спальня    |\n",
      "|    включи     |    пылесос    |       в       |    спальне    |\n",
      "=======\n"
     ]
    }
   ],
   "source": [
    "for tree in result.iter_trees():\n",
    "    wmg.earley.print_tree(tree, result.final_state, w=16)\n",
    "    print('=======')"
   ]
  },
  {
   "cell_type": "code",
   "execution_count": 186,
   "metadata": {},
   "outputs": [
    {
     "data": {
      "text/plain": [
       "[('вентилятор', 0.6503194570541382),\n",
       " ('вентиляция', 0.6157035827636719),\n",
       " ('компрессор', 0.588625967502594),\n",
       " ('генератор', 0.577711820602417),\n",
       " ('радиатор', 0.5775179862976074),\n",
       " ('оборудование', 0.5729262232780457),\n",
       " ('дизельный', 0.5674254894256592),\n",
       " ('двигатель', 0.5639591813087463),\n",
       " ('сгорание', 0.5580621957778931),\n",
       " ('пылесос', 0.5563299655914307)]"
      ]
     },
     "execution_count": 186,
     "metadata": {},
     "output_type": "execute_result"
    }
   ],
   "source": [
    "small_model.most_similar('кондиционер')"
   ]
  },
  {
   "cell_type": "markdown",
   "metadata": {},
   "source": [
    "### Неоднозначные фразы"
   ]
  },
  {
   "cell_type": "code",
   "execution_count": 249,
   "metadata": {},
   "outputs": [],
   "source": [
    "reload(wmg)\n",
    "reload(wmg.grammar);\n",
    "reload(wmg.earley);\n",
    "reload(wmg.text_to_grammar);"
   ]
  },
  {
   "cell_type": "code",
   "execution_count": 209,
   "metadata": {},
   "outputs": [],
   "source": [
    "flies = \"\"\"\n",
    "S : NP VP\n",
    "NP: N | A NP\n",
    "VP: V | VP NP | VP PP\n",
    "PP: P NP\n",
    "N: fruit | flies | bananas\n",
    "A: fruit\n",
    "V -> like | flies | are\n",
    "V:\n",
    "  %regex\n",
    "  .+ed\n",
    "P: like\n",
    "\"\"\""
   ]
  },
  {
   "cell_type": "code",
   "execution_count": 210,
   "metadata": {},
   "outputs": [],
   "source": [
    "g = wmg.text_to_grammar.load_granet(flies)\n",
    "parser = wmg.earley.EarleyParser(g)"
   ]
  },
  {
   "cell_type": "code",
   "execution_count": 211,
   "metadata": {},
   "outputs": [
    {
     "name": "stdout",
     "output_type": "stream",
     "text": [
      "|                     ^                      |\n",
      "|                     S                      |\n",
      "|      NP      |             VP              |\n",
      "|      N       |      VP      |      NP      |\n",
      "|   bananas    |      V       |      N       |\n",
      "|              |     are      |    fruit     |\n",
      "|   bananas    |     are      |    fruit     |\n",
      "=======\n"
     ]
    }
   ],
   "source": [
    "result = parser.parse('bananas are fruit'.split())\n",
    "for tree in result.iter_trees():\n",
    "    wmg.earley.print_tree(tree, result.final_state)\n",
    "    print('=======')"
   ]
  },
  {
   "cell_type": "code",
   "execution_count": 167,
   "metadata": {},
   "outputs": [
    {
     "name": "stdout",
     "output_type": "stream",
     "text": [
      "|                             .                             |\n",
      "|                             S                             |\n",
      "|      NP      |                     VP                     |\n",
      "|      N       |      VP      |             PP              |\n",
      "|    fruit     |      V       |      P       |      NP      |\n",
      "|              |    flies     |     like     |      N       |\n",
      "|              |              |              |   bananas    |\n",
      "|    fruit     |    flies     |     like     |   bananas    |\n",
      "=======\n",
      "|                             .                             |\n",
      "|                             S                             |\n",
      "|             NP              |             VP              |\n",
      "|      A       |      NP      |      VP      |      NP      |\n",
      "|    fruit     |      N       |      V       |      N       |\n",
      "|              |    flies     |     like     |   bananas    |\n",
      "|    fruit     |    flies     |     like     |   bananas    |\n",
      "=======\n"
     ]
    }
   ],
   "source": [
    "result = parser.parse('fruit flies like bananas'.split())\n",
    "for tree in result.iter_trees():\n",
    "    wmg.earley.print_tree(tree, result.final_state)\n",
    "    print('=======')"
   ]
  },
  {
   "cell_type": "code",
   "execution_count": 161,
   "metadata": {},
   "outputs": [
    {
     "name": "stdout",
     "output_type": "stream",
     "text": [
      "|                             .                             |\n",
      "|                             S                             |\n",
      "|      NP      |                     VP                     |\n",
      "|      N       |      VP      |             PP              |\n",
      "|    fruit     |      V       |      P       |      NP      |\n",
      "|              |     .+ed     |     like     |      N       |\n",
      "|              |              |              |   bananas    |\n",
      "|    fruit     |    jumped    |     like     |   bananas    |\n",
      "=======\n"
     ]
    }
   ],
   "source": [
    "result = parser.parse('fruit jumped like bananas'.split())\n",
    "for tree in result.iter_trees():\n",
    "    wmg.earley.print_tree(tree, result.final_state)\n",
    "    print('=======')"
   ]
  },
  {
   "cell_type": "code",
   "execution_count": 197,
   "metadata": {},
   "outputs": [
    {
     "data": {
      "text/plain": [
       "['']"
      ]
     },
     "execution_count": 197,
     "metadata": {},
     "output_type": "execute_result"
    }
   ],
   "source": [
    "''.split('#', 1)"
   ]
  },
  {
   "cell_type": "code",
   "execution_count": 198,
   "metadata": {},
   "outputs": [
    {
     "data": {
      "text/plain": [
       "['ab ', ' cd']"
      ]
     },
     "execution_count": 198,
     "metadata": {},
     "output_type": "execute_result"
    }
   ],
   "source": [
    "'ab -> cd'.split('->')"
   ]
  },
  {
   "cell_type": "code",
   "execution_count": 199,
   "metadata": {},
   "outputs": [
    {
     "data": {
      "text/plain": [
       "False"
      ]
     },
     "execution_count": 199,
     "metadata": {},
     "output_type": "execute_result"
    }
   ],
   "source": [
    "'->' in 'abc'"
   ]
  },
  {
   "cell_type": "code",
   "execution_count": 218,
   "metadata": {},
   "outputs": [
    {
     "name": "stdout",
     "output_type": "stream",
     "text": [
      "'kek'\n"
     ]
    }
   ],
   "source": [
    "print(\"'kek'\".strip(\"8\"))"
   ]
  },
  {
   "cell_type": "code",
   "execution_count": 248,
   "metadata": {},
   "outputs": [
    {
     "name": "stdout",
     "output_type": "stream",
     "text": [
      "|                                                   ^                                                    |\n",
      "|                                                   S                                                    |\n",
      "|      NP      |                                           VP                                            |\n",
      "|      I       |                     VP                     |                     PP                     |\n",
      "|              |      V       |             NP              |      P       |             NP              |\n",
      "|              |     shot     |     Det      |      N       |      in      |     Det      |      N       |\n",
      "|              |              |      an      |   elephant   |              |      my      |   pajamas    |\n",
      "|      I       |     shot     |      an      |   elephant   |      in      |      my      |   pajamas    |\n",
      "=======\n",
      "|                                                   ^                                                    |\n",
      "|                                                   S                                                    |\n",
      "|      NP      |                                           VP                                            |\n",
      "|      I       |      V       |                                    NP                                    |\n",
      "|              |     shot     |     Det      |      N       |                     PP                     |\n",
      "|              |              |      an      |   elephant   |      P       |             NP              |\n",
      "|              |              |              |              |      in      |     Det      |      N       |\n",
      "|              |              |              |              |              |      my      |   pajamas    |\n",
      "|      I       |     shot     |      an      |   elephant   |      in      |      my      |   pajamas    |\n",
      "=======\n"
     ]
    }
   ],
   "source": [
    "reload(wmg)\n",
    "reload(wmg.grammar);\n",
    "reload(wmg.earley);\n",
    "reload(wmg.text_to_grammar);\n",
    "\n",
    "\n",
    "pajamas = wmg.text_to_grammar.load_granet(\n",
    "    \"\"\"\n",
    "S -> NP VP\n",
    "PP -> P NP\n",
    "NP -> Det N | Det N PP | 'I'\n",
    "VP -> V NP | VP PP\n",
    "Det -> 'an' | 'my'\n",
    "N -> 'elephant' | 'pajamas'\n",
    "V -> 'shot'\n",
    "P -> 'in'\n",
    "\"\"\"\n",
    ")\n",
    "\n",
    "parser = wmg.earley.EarleyParser(pajamas)\n",
    "result = parser.parse(['I', 'shot', 'an', 'elephant', 'in', 'my', 'pajamas'])\n",
    "for tree in result.iter_trees():\n",
    "    wmg.earley.print_tree(tree, result.final_state)\n",
    "    print('=======')"
   ]
  },
  {
   "cell_type": "code",
   "execution_count": 242,
   "metadata": {},
   "outputs": [
    {
     "name": "stdout",
     "output_type": "stream",
     "text": [
      "|                     ^                      |\n",
      "|                     S                      |\n",
      "|      я       |     тебя     |      .       |\n",
      "|      я       |     тебя     |    зарежу    |\n",
      "=======\n"
     ]
    }
   ],
   "source": [
    "\n",
    "pajamas = wmg.text_to_grammar.load_granet(\n",
    "    \"\"\"\n",
    "S -> я тебя .\n",
    "\"\"\"\n",
    ")\n",
    "\n",
    "parser = wmg.earley.EarleyParser(pajamas)\n",
    "result = parser.parse('я тебя зарежу'.split())\n",
    "for tree in result.iter_trees():\n",
    "    wmg.earley.print_tree(tree, result.final_state)\n",
    "    print('=======')"
   ]
  },
  {
   "cell_type": "code",
   "execution_count": 252,
   "metadata": {},
   "outputs": [
    {
     "name": "stdout",
     "output_type": "stream",
     "text": [
      "|      ^       |\n",
      "|      S       |\n",
      "|    привет    |\n",
      "|    привет    |\n",
      "=======\n"
     ]
    }
   ],
   "source": [
    "\n",
    "pajamas = wmg.text_to_grammar.load_granet(\n",
    "    \"\"\"\n",
    "S: \n",
    "  - привет\n",
    "  - пока\n",
    "\"\"\"\n",
    ")\n",
    "\n",
    "parser = wmg.earley.EarleyParser(pajamas)\n",
    "result = parser.parse('привет'.split())\n",
    "for tree in result.iter_trees():\n",
    "    wmg.earley.print_tree(tree, result.final_state)\n",
    "    print('=======')"
   ]
  },
  {
   "cell_type": "code",
   "execution_count": 253,
   "metadata": {},
   "outputs": [
    {
     "data": {
      "text/plain": [
       "{'S': <word_mover_grammar.grammar.NonTerminal at 0x2cfdf6afc8>,\n",
       " 'привет': <word_mover_grammar.grammar.Terminal at 0x2cfdf6a708>,\n",
       " 'пока': <word_mover_grammar.grammar.Terminal at 0x2cfdf6a608>}"
      ]
     },
     "execution_count": 253,
     "metadata": {},
     "output_type": "execute_result"
    }
   ],
   "source": [
    "pajamas"
   ]
  },
  {
   "cell_type": "code",
   "execution_count": null,
   "metadata": {},
   "outputs": [],
   "source": []
  }
 ],
 "metadata": {
  "kernelspec": {
   "display_name": "Python 3",
   "language": "python",
   "name": "python3"
  },
  "language_info": {
   "codemirror_mode": {
    "name": "ipython",
    "version": 3
   },
   "file_extension": ".py",
   "mimetype": "text/x-python",
   "name": "python",
   "nbconvert_exporter": "python",
   "pygments_lexer": "ipython3",
   "version": "3.7.6"
  }
 },
 "nbformat": 4,
 "nbformat_minor": 4
}
